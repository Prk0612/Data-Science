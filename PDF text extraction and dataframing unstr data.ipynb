{
 "cells": [
  {
   "cell_type": "code",
   "execution_count": null,
   "id": "7a198940",
   "metadata": {
    "scrolled": true,
    "slideshow": {
     "slide_type": "notes"
    }
   },
   "outputs": [],
   "source": [
    "!pip install PyPDF2\n",
    "from PyPDF2 import PdfReader\n",
    "import os\n",
    "import io\n",
    "\n",
    "folder_path = r'C:\\Users\\prati\\Downloads\\Voice agreements'  # Replace with your folder path\n",
    "\n",
    "file_list = os.listdir(folder_path)\n",
    "\n",
    "x = \"\"  # Variable to store the printed output\n",
    "\n",
    "from PyPDF2 import PdfReader\n",
    "\n",
    "for file_name in file_list:\n",
    "    if file_name.endswith('.pdf'):  # Process only PDF files\n",
    "        file_path = os.path.join(folder_path, file_name)\n",
    "        with open(file_path, 'rb') as file:\n",
    "            pdf = PdfReader(file)\n",
    "            num_pages = len(pdf.pages)\n",
    "            text = \"\"\n",
    "            for page_num in range(num_pages):\n",
    "                page = pdf.pages[page_num]\n",
    "                text += page.extract_text()\n",
    "                \n",
    "        \n",
    "        printed_text = f\"Text from {file_name}:\\n{text}\\n\\n\"\n",
    "        print(printed_text)"
   ]
  },
  {
   "cell_type": "code",
   "execution_count": null,
   "id": "009ad687",
   "metadata": {
    "scrolled": true
   },
   "outputs": [],
   "source": [
    "!pip install PyPDF2\n",
    "from PyPDF2 import PdfReader\n",
    "import os\n",
    "import pandas as pd\n",
    "import re\n",
    "\n",
    "folder_path = r'C:\\Users\\prati\\Downloads\\Voice agreements'  # Replace with your folder path\n",
    "\n",
    "file_list = os.listdir(folder_path)\n",
    "\n",
    "data_list = []  # Variable to store the printed output\n",
    "\n",
    "from PyPDF2 import PdfReader\n",
    "\n",
    "for file_name in file_list:\n",
    "    if file_name.endswith('.pdf'):  # Process only PDF files\n",
    "        file_path = os.path.join(folder_path, file_name)\n",
    "        with open(file_path, 'rb') as file:\n",
    "            pdf = PdfReader(file)\n",
    "            num_pages = len(pdf.pages)\n",
    "            text = \"\"\n",
    "            for page_num in range(num_pages):\n",
    "                page = pdf.pages[page_num]\n",
    "                text += page.extract_text()\n",
    "                \n",
    "            partitions = re.split(r'Text From \\w+', text)\n",
    "\n",
    "# Define the desired columns to extract\n",
    "            desired_columns = ['Email','Package', 'Practice Name','Sign Date','Contract Sign Date','How many hard phones are you looking to set up?','Phone Fee','Total Due Today','GRP 2613','GRP 2616','DP 720','DP 750', 'Terminal Fee','Phone and Accessory Fee']\n",
    "\n",
    "# Extract the data from each partition\n",
    "            result = []\n",
    "            for partition in partitions:\n",
    "                partition_data = {}\n",
    "                for column in desired_columns:\n",
    "                    match = re.search(fr'{column}\\n \\n\\*\\n(.*?)\\n' , partition)\n",
    "                    match1 = re.search(fr'{column}\\n\\$\\n \\n(.*?)\\n', partition) \n",
    "                    match2 = re.search(fr'{column}\\n(.*?)\\n', partition)\n",
    "                    match3 = re.search(rf\"{re.escape(column)}\\s*\\n\\s*\\*\\n(.+)\", partition)\n",
    "                    if match:\n",
    "                        partition_data[column] = match.group(1).strip()\n",
    "                    elif match1:\n",
    "                        partition_data[column] = match1.group(1).strip()\n",
    "                    elif match2:\n",
    "                        partition_data[column] = match2.group(1).strip()\n",
    "                    elif match3:\n",
    "                        partition_data[column] = match3.group(1).strip()   \n",
    "                result.append(partition_data)\n",
    "                \n",
    "            data_list.extend(result)\n",
    "\n",
    "# Create DataFrame from the extracted data\n",
    "df = pd.DataFrame(data_list)\n",
    "\n",
    "df\n",
    "\n"
   ]
  },
  {
   "cell_type": "code",
   "execution_count": null,
   "id": "13e94935",
   "metadata": {},
   "outputs": [],
   "source": [
    "df.to_csv(r\"C:\\Users\\prati\\Downloads\\Email data.csv\")"
   ]
  },
  {
   "cell_type": "code",
   "execution_count": null,
   "id": "0da8a26f",
   "metadata": {},
   "outputs": [],
   "source": []
  }
 ],
 "metadata": {
  "celltoolbar": "Tags",
  "kernelspec": {
   "display_name": "Python 3 (ipykernel)",
   "language": "python",
   "name": "python3"
  },
  "language_info": {
   "codemirror_mode": {
    "name": "ipython",
    "version": 3
   },
   "file_extension": ".py",
   "mimetype": "text/x-python",
   "name": "python",
   "nbconvert_exporter": "python",
   "pygments_lexer": "ipython3",
   "version": "3.11.3"
  }
 },
 "nbformat": 4,
 "nbformat_minor": 5
}
