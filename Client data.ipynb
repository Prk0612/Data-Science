{
 "cells": [
  {
   "cell_type": "code",
   "execution_count": 76,
   "id": "ccd1d3e2",
   "metadata": {},
   "outputs": [
    {
     "name": "stdout",
     "output_type": "stream",
     "text": [
      "Requirement already satisfied: PyPDF2 in c:\\users\\priyank\\appdata\\local\\programs\\python\\python310\\lib\\site-packages (3.0.1)\n"
     ]
    },
    {
     "data": {
      "text/html": [
       "<div>\n",
       "<style scoped>\n",
       "    .dataframe tbody tr th:only-of-type {\n",
       "        vertical-align: middle;\n",
       "    }\n",
       "\n",
       "    .dataframe tbody tr th {\n",
       "        vertical-align: top;\n",
       "    }\n",
       "\n",
       "    .dataframe thead th {\n",
       "        text-align: right;\n",
       "    }\n",
       "</style>\n",
       "<table border=\"1\" class=\"dataframe\">\n",
       "  <thead>\n",
       "    <tr style=\"text-align: right;\">\n",
       "      <th></th>\n",
       "      <th>Authorised capital of the company as on the date of filing</th>\n",
       "      <th>Corporate identity number (CIN) of company</th>\n",
       "      <th>e-mail id of the company</th>\n",
       "    </tr>\n",
       "  </thead>\n",
       "  <tbody>\n",
       "    <tr>\n",
       "      <th>0</th>\n",
       "      <td>100,000</td>\n",
       "      <td>U29248GJ2009PTC057637</td>\n",
       "      <td>officeclient1@rediffmail.com</td>\n",
       "    </tr>\n",
       "  </tbody>\n",
       "</table>\n",
       "</div>"
      ],
      "text/plain": [
       "  Authorised capital of the company as on the date of filing   \n",
       "0                                            100,000          \\\n",
       "\n",
       "  Corporate identity number (CIN) of company      e-mail id of the company  \n",
       "0                      U29248GJ2009PTC057637  officeclient1@rediffmail.com  "
      ]
     },
     "execution_count": 76,
     "metadata": {},
     "output_type": "execute_result"
    }
   ],
   "source": [
    "!pip install PyPDF2\n",
    "import os\n",
    "import re\n",
    "import pandas as pd\n",
    "from PyPDF2 import PdfReader\n",
    "\n",
    "folder_path = r'C:\\Users\\Priyank\\Downloads\\Client data'  # Replace with your folder path\n",
    "\n",
    "file_list = os.listdir(folder_path)\n",
    "\n",
    "result = []  # Variable to store the extracted data\n",
    "\n",
    "for file_name in file_list:\n",
    "    if file_name.endswith('.pdf'):  # Process only PDF files\n",
    "        file_path = os.path.join(folder_path, file_name)\n",
    "        with open(file_path, 'rb') as file:\n",
    "            pdf = PdfReader(file)\n",
    "            num_pages = len(pdf.pages)\n",
    "            text = \"\"\n",
    "            for page_num in range(num_pages):\n",
    "                page = pdf.pages[page_num]\n",
    "                text += page.extract_text()\n",
    "                \n",
    "            partitions = re.split(r'Text From \\w+', text)\n",
    "            \n",
    "            # Define the desired columns to extract\n",
    "            desired_columns = ['Authorised capital of the company as on the date of filing','Corporate identity number (CIN) of company','e-mail id of the company']\n",
    "            data_list = []\n",
    "            # Extract the data from the text\n",
    "            result = []\n",
    "            for partition in partitions:\n",
    "                partition_data = {}\n",
    "                for column in desired_columns:\n",
    "                    match = re.search(fr'{column}\\n.*?([\\d,]+)', partition)\n",
    "                    match1 = re.search(fr\"(\\w+@\\w+(?:\\.\\w+)+)[\\n]*.*{re.escape(column)}\", partition)\n",
    "                    match2 = re.search(fr\"([\\w]+[\\d]+)[\\n]*.*{re.escape(column)}\", partition)\n",
    "                    if match:\n",
    "                        partition_data[column] = match.group(1).strip()\n",
    "                    elif match1:\n",
    "                        partition_data[column] = match1.group(1).strip()\n",
    "                    elif match2:\n",
    "                        partition_data[column] = match2.group(1).strip()\n",
    "                result.append(partition_data)\n",
    "        data_list.extend(result)\n",
    "\n",
    "# Create DataFrame from the extracted data\n",
    "df = pd.DataFrame(data_list)\n",
    "\n",
    "df"
   ]
  },
  {
   "cell_type": "code",
   "execution_count": null,
   "id": "d3fb91a1",
   "metadata": {},
   "outputs": [],
   "source": []
  }
 ],
 "metadata": {
  "kernelspec": {
   "display_name": "Python 3 (ipykernel)",
   "language": "python",
   "name": "python3"
  },
  "language_info": {
   "codemirror_mode": {
    "name": "ipython",
    "version": 3
   },
   "file_extension": ".py",
   "mimetype": "text/x-python",
   "name": "python",
   "nbconvert_exporter": "python",
   "pygments_lexer": "ipython3",
   "version": "3.11.3"
  }
 },
 "nbformat": 4,
 "nbformat_minor": 5
}
